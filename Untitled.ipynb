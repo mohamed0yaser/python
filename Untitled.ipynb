{
  "nbformat": 4,
  "nbformat_minor": 0,
  "metadata": {
    "colab": {
      "provenance": [],
      "include_colab_link": true
    },
    "kernelspec": {
      "name": "python3",
      "display_name": "Python 3"
    },
    "language_info": {
      "name": "python"
    }
  },
  "cells": [
    {
      "cell_type": "markdown",
      "metadata": {
        "id": "view-in-github",
        "colab_type": "text"
      },
      "source": [
        "<a href=\"https://colab.research.google.com/github/mohamed0yaser/python/blob/main/Untitled.ipynb\" target=\"_parent\"><img src=\"https://colab.research.google.com/assets/colab-badge.svg\" alt=\"Open In Colab\"/></a>"
      ]
    },
    {
      "cell_type": "code",
      "execution_count": 35,
      "metadata": {
        "id": "W0iEBSDTjt83"
      },
      "outputs": [],
      "source": [
        "import tensorflow as tf\n",
        "from tensorflow import keras\n",
        "import pandas as pd\n",
        "import numpy as np\n",
        "from sklearn.model_selection import train_test_split"
      ]
    },
    {
      "cell_type": "markdown",
      "source": [
        "Import the necessary libraries"
      ],
      "metadata": {
        "id": "Cm02Cse8jv8E"
      }
    },
    {
      "cell_type": "markdown",
      "source": [
        "Load your dataset."
      ],
      "metadata": {
        "id": "_nWOH4--kk77"
      }
    },
    {
      "cell_type": "code",
      "source": [
        "# Load the dataset into a Pandas DataFrame\n",
        "df = pd.read_csv('dataset.csv')\n",
        "\n",
        "# Split the dataset into features and labels\n",
        "features = df[['Temperature', 'Humidity', 'Light', 'Rain', 'SoilMoisture']]\n",
        "labels = df['Label']\n"
      ],
      "metadata": {
        "id": "f2mmbfpAkgN3"
      },
      "execution_count": 36,
      "outputs": []
    },
    {
      "cell_type": "code",
      "source": [
        "from google.colab import drive\n",
        "drive.mount('/content/drive')"
      ],
      "metadata": {
        "colab": {
          "base_uri": "https://localhost:8080/"
        },
        "id": "cMcCJbUEmVg-",
        "outputId": "7d18d486-d9d0-4d96-eec5-660824fdb609"
      },
      "execution_count": 20,
      "outputs": [
        {
          "output_type": "stream",
          "name": "stdout",
          "text": [
            "Drive already mounted at /content/drive; to attempt to forcibly remount, call drive.mount(\"/content/drive\", force_remount=True).\n"
          ]
        }
      ]
    },
    {
      "cell_type": "markdown",
      "source": [
        "Normalize the features.\n",
        ":"
      ],
      "metadata": {
        "id": "bzqBmEwak3PL"
      }
    },
    {
      "cell_type": "code",
      "source": [
        "# Normalize the features to the range [0, 1]\n",
        "features = (features - features.min()) / (features.max() - features.min())\n"
      ],
      "metadata": {
        "id": "jTbDP1Zxk7Z-"
      },
      "execution_count": 37,
      "outputs": []
    },
    {
      "cell_type": "markdown",
      "source": [
        "Shuffle the dataset.\n"
      ],
      "metadata": {
        "id": "eoDrjEW5lId_"
      }
    },
    {
      "cell_type": "code",
      "source": [
        "# Shuffle the dataset to prevent overfitting\n",
        "df = pd.DataFrame(features)\n",
        "\n",
        "# Shuffle the DataFrame\n",
        "df = df.sample(frac=1).reset_index(drop=True)\n",
        "\n",
        "print(df)\n",
        "\n",
        "# Shuffle the dataset to prevent overfitting\n",
        "dl = pd.DataFrame(labels)\n",
        "\n",
        "# Shuffle the DataFrame\n",
        "dl = dl.sample(frac=1).reset_index(drop=True)\n",
        "\n",
        "print(dl)\n"
      ],
      "metadata": {
        "colab": {
          "base_uri": "https://localhost:8080/"
        },
        "id": "RSMBRZxilLk1",
        "outputId": "07703a05-9610-4d63-b70c-0f5b33d5efe5"
      },
      "execution_count": 45,
      "outputs": [
        {
          "output_type": "stream",
          "name": "stdout",
          "text": [
            "       Temperature  Humidity  Light     Rain  SoilMoisture\n",
            "0           0.3660  0.583396    1.0  0.17950      0.086022\n",
            "1           0.6205  0.049262    0.0  0.03050      0.095524\n",
            "2           0.5110  0.390098    0.5  0.22525      0.740435\n",
            "3           0.7135  0.697674    0.5  0.10775      0.580395\n",
            "4           0.5010  0.589397    0.0  0.13475      0.624906\n",
            "...            ...       ...    ...      ...           ...\n",
            "19495       0.6915  0.501625    0.0  0.08050      0.054514\n",
            "19496       0.4050  0.712178    1.0  0.11950      0.730433\n",
            "19497       0.5955  0.291323    0.5  0.37925      0.275319\n",
            "19498       0.6065  0.828207    0.5  0.80775      0.234309\n",
            "19499       0.6310  0.434109    0.5  0.12000      0.213303\n",
            "\n",
            "[19500 rows x 5 columns]\n",
            "            Label\n",
            "0          Squash\n",
            "1         Soybean\n",
            "2      Strawberry\n",
            "3          Pepper\n",
            "4          Cherry\n",
            "...           ...\n",
            "19495       Grape\n",
            "19496        Corn\n",
            "19497       Peach\n",
            "19498       Grape\n",
            "19499       Peach\n",
            "\n",
            "[19500 rows x 1 columns]\n"
          ]
        }
      ]
    },
    {
      "cell_type": "markdown",
      "source": [
        "Split the dataset into training and testing sets.\n",
        "Split the dataset into 80% training and 20% testing sets"
      ],
      "metadata": {
        "id": "WIq_cDhdlPUk"
      }
    },
    {
      "cell_type": "code",
      "source": [
        "train_features, test_features, train_labels, test_labels = train_test_split(features, labels, test_size=0.2)"
      ],
      "metadata": {
        "id": "7s68uCUzlawA"
      },
      "execution_count": 46,
      "outputs": []
    },
    {
      "cell_type": "markdown",
      "source": [
        "Create the CNN model."
      ],
      "metadata": {
        "id": "UqqZVQESlfg2"
      }
    },
    {
      "cell_type": "code",
      "source": [
        "# Create a sequential model\n",
        "model = tf.keras.Sequential([\n",
        "    # A convolutional layer with 32 filters of size 3x3\n",
        "    tf.keras.layers.Conv2D(32, (3, 3), activation='relu'),\n",
        "    # A max pooling layer with pool size 2x2\n",
        "    tf.keras.layers.MaxPool2D((2, 2)),\n",
        "    # Another convolutional layer with 64 filters of size 3x3\n",
        "    tf.keras.layers.Conv2D(64, (3, 3), activation='relu'),\n",
        "    # Another max pooling layer with pool size 2x2\n",
        "    tf.keras.layers.MaxPool2D((2, 2)),\n",
        "    # A flatten layer to convert the 2D feature maps to a 1D vector\n",
        "    tf.keras.layers.Flatten(),\n",
        "    # A fully connected layer with 128 neurons\n",
        "    tf.keras.layers.Dense(128, activation='relu'),\n",
        "    # A dropout layer to prevent overfitting\n",
        "    tf.keras.layers.Dropout(0.5),\n",
        "    # A fully connected layer with 1 neuron\n",
        "    tf.keras.layers.Dense(1, activation='sigmoid')\n",
        "])\n",
        "\n"
      ],
      "metadata": {
        "id": "SgccNJlZljH_"
      },
      "execution_count": 51,
      "outputs": []
    },
    {
      "cell_type": "markdown",
      "source": [
        "Compile the model.\n"
      ],
      "metadata": {
        "id": "fLgNqpFUlpmt"
      }
    },
    {
      "cell_type": "code",
      "source": [
        "# Compile the model with the Adam optimizer and the categorical cross-entropy loss function\n",
        "model.compile(optimizer='adam', loss='categorical_crossentropy', metrics=['accuracy'])\n"
      ],
      "metadata": {
        "id": "LrncxxWUlsl7"
      },
      "execution_count": 66,
      "outputs": []
    },
    {
      "cell_type": "markdown",
      "source": [
        "Train the model.\n"
      ],
      "metadata": {
        "id": "Y9XGcc8Clvkb"
      }
    },
    {
      "cell_type": "code",
      "source": [
        "# Train the model for 10 epochs\n",
        "train_features_reshaped = train_features.values.reshape(-1, 5)\n",
        "train_labels_reshaped = train_labels.values.reshape(-1, 1)\n",
        "\n",
        "model.fit(train_features_reshaped, train_labels_reshaped, epochs=10)"
      ],
      "metadata": {
        "colab": {
          "base_uri": "https://localhost:8080/",
          "height": 744
        },
        "id": "zbiCFfSKlyLX",
        "outputId": "af1e2306-933d-4062-d85c-b1c04feb24a0"
      },
      "execution_count": 67,
      "outputs": [
        {
          "output_type": "stream",
          "name": "stdout",
          "text": [
            "Epoch 1/10\n"
          ]
        },
        {
          "output_type": "error",
          "ename": "ValueError",
          "evalue": "ignored",
          "traceback": [
            "\u001b[0;31m---------------------------------------------------------------------------\u001b[0m",
            "\u001b[0;31mValueError\u001b[0m                                Traceback (most recent call last)",
            "\u001b[0;32m<ipython-input-67-69b64f56021d>\u001b[0m in \u001b[0;36m<cell line: 5>\u001b[0;34m()\u001b[0m\n\u001b[1;32m      3\u001b[0m \u001b[0mtrain_labels_reshaped\u001b[0m \u001b[0;34m=\u001b[0m \u001b[0mtrain_labels\u001b[0m\u001b[0;34m.\u001b[0m\u001b[0mvalues\u001b[0m\u001b[0;34m.\u001b[0m\u001b[0mreshape\u001b[0m\u001b[0;34m(\u001b[0m\u001b[0;34m-\u001b[0m\u001b[0;36m1\u001b[0m\u001b[0;34m,\u001b[0m \u001b[0;36m1\u001b[0m\u001b[0;34m)\u001b[0m\u001b[0;34m\u001b[0m\u001b[0;34m\u001b[0m\u001b[0m\n\u001b[1;32m      4\u001b[0m \u001b[0;34m\u001b[0m\u001b[0m\n\u001b[0;32m----> 5\u001b[0;31m \u001b[0mmodel\u001b[0m\u001b[0;34m.\u001b[0m\u001b[0mfit\u001b[0m\u001b[0;34m(\u001b[0m\u001b[0mtrain_features_reshaped\u001b[0m\u001b[0;34m,\u001b[0m \u001b[0mtrain_labels_reshaped\u001b[0m\u001b[0;34m,\u001b[0m \u001b[0mepochs\u001b[0m\u001b[0;34m=\u001b[0m\u001b[0;36m10\u001b[0m\u001b[0;34m)\u001b[0m\u001b[0;34m\u001b[0m\u001b[0;34m\u001b[0m\u001b[0m\n\u001b[0m",
            "\u001b[0;32m/usr/local/lib/python3.10/dist-packages/keras/utils/traceback_utils.py\u001b[0m in \u001b[0;36merror_handler\u001b[0;34m(*args, **kwargs)\u001b[0m\n\u001b[1;32m     68\u001b[0m             \u001b[0;31m# To get the full stack trace, call:\u001b[0m\u001b[0;34m\u001b[0m\u001b[0;34m\u001b[0m\u001b[0m\n\u001b[1;32m     69\u001b[0m             \u001b[0;31m# `tf.debugging.disable_traceback_filtering()`\u001b[0m\u001b[0;34m\u001b[0m\u001b[0;34m\u001b[0m\u001b[0m\n\u001b[0;32m---> 70\u001b[0;31m             \u001b[0;32mraise\u001b[0m \u001b[0me\u001b[0m\u001b[0;34m.\u001b[0m\u001b[0mwith_traceback\u001b[0m\u001b[0;34m(\u001b[0m\u001b[0mfiltered_tb\u001b[0m\u001b[0;34m)\u001b[0m \u001b[0;32mfrom\u001b[0m \u001b[0;32mNone\u001b[0m\u001b[0;34m\u001b[0m\u001b[0;34m\u001b[0m\u001b[0m\n\u001b[0m\u001b[1;32m     71\u001b[0m         \u001b[0;32mfinally\u001b[0m\u001b[0;34m:\u001b[0m\u001b[0;34m\u001b[0m\u001b[0;34m\u001b[0m\u001b[0m\n\u001b[1;32m     72\u001b[0m             \u001b[0;32mdel\u001b[0m \u001b[0mfiltered_tb\u001b[0m\u001b[0;34m\u001b[0m\u001b[0;34m\u001b[0m\u001b[0m\n",
            "\u001b[0;32m/usr/local/lib/python3.10/dist-packages/keras/engine/training.py\u001b[0m in \u001b[0;36mtf__train_function\u001b[0;34m(iterator)\u001b[0m\n\u001b[1;32m     13\u001b[0m                 \u001b[0;32mtry\u001b[0m\u001b[0;34m:\u001b[0m\u001b[0;34m\u001b[0m\u001b[0;34m\u001b[0m\u001b[0m\n\u001b[1;32m     14\u001b[0m                     \u001b[0mdo_return\u001b[0m \u001b[0;34m=\u001b[0m \u001b[0;32mTrue\u001b[0m\u001b[0;34m\u001b[0m\u001b[0;34m\u001b[0m\u001b[0m\n\u001b[0;32m---> 15\u001b[0;31m                     \u001b[0mretval_\u001b[0m \u001b[0;34m=\u001b[0m \u001b[0mag__\u001b[0m\u001b[0;34m.\u001b[0m\u001b[0mconverted_call\u001b[0m\u001b[0;34m(\u001b[0m\u001b[0mag__\u001b[0m\u001b[0;34m.\u001b[0m\u001b[0mld\u001b[0m\u001b[0;34m(\u001b[0m\u001b[0mstep_function\u001b[0m\u001b[0;34m)\u001b[0m\u001b[0;34m,\u001b[0m \u001b[0;34m(\u001b[0m\u001b[0mag__\u001b[0m\u001b[0;34m.\u001b[0m\u001b[0mld\u001b[0m\u001b[0;34m(\u001b[0m\u001b[0mself\u001b[0m\u001b[0;34m)\u001b[0m\u001b[0;34m,\u001b[0m \u001b[0mag__\u001b[0m\u001b[0;34m.\u001b[0m\u001b[0mld\u001b[0m\u001b[0;34m(\u001b[0m\u001b[0miterator\u001b[0m\u001b[0;34m)\u001b[0m\u001b[0;34m)\u001b[0m\u001b[0;34m,\u001b[0m \u001b[0;32mNone\u001b[0m\u001b[0;34m,\u001b[0m \u001b[0mfscope\u001b[0m\u001b[0;34m)\u001b[0m\u001b[0;34m\u001b[0m\u001b[0;34m\u001b[0m\u001b[0m\n\u001b[0m\u001b[1;32m     16\u001b[0m                 \u001b[0;32mexcept\u001b[0m\u001b[0;34m:\u001b[0m\u001b[0;34m\u001b[0m\u001b[0;34m\u001b[0m\u001b[0m\n\u001b[1;32m     17\u001b[0m                     \u001b[0mdo_return\u001b[0m \u001b[0;34m=\u001b[0m \u001b[0;32mFalse\u001b[0m\u001b[0;34m\u001b[0m\u001b[0;34m\u001b[0m\u001b[0m\n",
            "\u001b[0;31mValueError\u001b[0m: in user code:\n\n    File \"/usr/local/lib/python3.10/dist-packages/keras/engine/training.py\", line 1284, in train_function  *\n        return step_function(self, iterator)\n    File \"/usr/local/lib/python3.10/dist-packages/keras/engine/training.py\", line 1268, in step_function  **\n        outputs = model.distribute_strategy.run(run_step, args=(data,))\n    File \"/usr/local/lib/python3.10/dist-packages/keras/engine/training.py\", line 1249, in run_step  **\n        outputs = model.train_step(data)\n    File \"/usr/local/lib/python3.10/dist-packages/keras/engine/training.py\", line 1050, in train_step\n        y_pred = self(x, training=True)\n    File \"/usr/local/lib/python3.10/dist-packages/keras/utils/traceback_utils.py\", line 70, in error_handler\n        raise e.with_traceback(filtered_tb) from None\n    File \"/usr/local/lib/python3.10/dist-packages/keras/engine/input_spec.py\", line 253, in assert_input_compatibility\n        raise ValueError(\n\n    ValueError: Exception encountered when calling layer 'sequential_4' (type Sequential).\n    \n    Input 0 of layer \"conv2d_8\" is incompatible with the layer: expected min_ndim=4, found ndim=2. Full shape received: (None, 5)\n    \n    Call arguments received by layer 'sequential_4' (type Sequential):\n      • inputs=tf.Tensor(shape=(None, 5), dtype=float32)\n      • training=True\n      • mask=None\n"
          ]
        }
      ]
    }
  ]
}